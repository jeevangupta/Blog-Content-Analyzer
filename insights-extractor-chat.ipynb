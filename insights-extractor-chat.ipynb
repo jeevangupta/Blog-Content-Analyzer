{
 "cells": [
  {
   "cell_type": "code",
   "execution_count": 4,
   "id": "3d693fa5-e6f3-4cfb-823c-d53fe70f218c",
   "metadata": {},
   "outputs": [],
   "source": [
    "import os\n",
    "import sys\n",
    "import requests\n",
    "\n",
    "from langchain_core.prompts import ChatPromptTemplate\n",
    "from langchain_openai import ChatOpenAI\n",
    "\n",
    "#from dotenv import load_dotenv\n",
    "#load_dotenv()"
   ]
  },
  {
   "cell_type": "code",
   "execution_count": 7,
   "id": "5e376118-ada7-4f49-9bb9-bc4263e4deff",
   "metadata": {},
   "outputs": [],
   "source": [
    "key = os.environ.get(\"OPENAI_API_KEY\")\n",
    "#print(key)"
   ]
  },
  {
   "cell_type": "code",
   "execution_count": 8,
   "id": "cdb96deb-5b5b-4afb-a57b-32b9b77886b9",
   "metadata": {},
   "outputs": [],
   "source": [
    "def extract_webpage_content(url):\n",
    "    try:\n",
    "        content = \"\"\n",
    "        # Make a GET request to the blog URL\n",
    "        response = requests.get(url)\n",
    "\n",
    "        # Check if the request was successful\n",
    "        if response.status_code == 200:\n",
    "            # Get the content from the response\n",
    "            content = response.text\n",
    "        else:\n",
    "            print('Failed to fetch content from the blog URL')\n",
    "\n",
    "        return content\n",
    "    except:\n",
    "        print(f\"\\n Function extract_webpage_content failed !!! {sys.exc_info()}\")"
   ]
  },
  {
   "cell_type": "code",
   "execution_count": 19,
   "id": "615602da-f6ed-4178-b2cd-b5e07d1ec181",
   "metadata": {},
   "outputs": [],
   "source": [
    "blog_url = 'https://jeevangupta.com/python-dictionary-tutorial/'\n",
    "\n",
    "blog_content = extract_webpage_content(blog_url)\n",
    "#print(blog_content)\n",
    "with open(\"./data/webpage_content.txt\", 'w', encoding='utf-8') as file:\n",
    "    file.write(blog_content)"
   ]
  },
  {
   "cell_type": "code",
   "execution_count": 23,
   "id": "3a90981b-34b6-4330-86ed-12ab5da158f8",
   "metadata": {},
   "outputs": [],
   "source": [
    "\n",
    "def extract_insights(webpage_content):\n",
    "    try:\n",
    "\n",
    "        llm = ChatOpenAI(model_name=\"gpt-4-turbo-preview\", temperature=0.5, max_tokens=1024)\n",
    "        \n",
    "        insight = \"\"\n",
    "        \n",
    "        with open(\"./system_prompt.txt\", \"r\") as f:\n",
    "            system_prompt = f.read()\n",
    "\n",
    "        main_prompt = \"\"\"Here is the blog post: \n",
    "        <blog_post>{}</blog_post>\"\"\"\n",
    "\n",
    "        messages = [\n",
    "                {\"role\": \"system\", \"content\": system_prompt},\n",
    "                {\"role\":\"user\", \"content\": main_prompt.format(webpage_content)}\n",
    "            ]\n",
    "\n",
    "        #insight = llm.invoke(messages)\n",
    "        #insight = insight.content\n",
    "        #return insight\n",
    "        \n",
    "\n",
    "        #using chaining\n",
    "        prompt = ChatPromptTemplate.from_messages(\n",
    "            [\n",
    "                (\"system\", system_prompt),\n",
    "                (\"human\", \"\"\"Here is the blog post: \n",
    "                <blog_post>{blog_content}</blog_post>\"\"\"),\n",
    "            ]\n",
    "        )\n",
    "        \n",
    "        chain = prompt | llm\n",
    "        insight = chain.invoke({\"blog_content\": webpage_content})\n",
    "        insight = insight.content\n",
    "        \n",
    "        return insight\n",
    "    except:\n",
    "        print(f\"\\n Function extract_insights failed !!! {sys.exc_info()}\")\n"
   ]
  },
  {
   "cell_type": "code",
   "execution_count": 24,
   "id": "da8949de-36e0-479a-a534-fb6668f86ee1",
   "metadata": {},
   "outputs": [
    {
     "name": "stdout",
     "output_type": "stream",
     "text": [
      "# Structural Information:\n",
      "- Word count: 5799\n",
      "- H1 tag count: 1\n",
      "- H2 tag count: 17\n",
      "- P tag count: 127\n",
      "- img tag count: 1\n",
      "\n",
      "# Blog Post Information:\n",
      "- Title: Exploring Python Dictionary – Learning Python Dictionary with Example\n",
      "- Sentiment: Informative and educational\n",
      "- Entity: Python Dictionary, Jeevan Gupta\n",
      "- Trends: The post focuses on educating readers about Python dictionaries, their operations, and common interview questions related to them. It uses examples extensively for explanation.\n",
      "- Summary: \n",
      "  This blog post by Jeevan Gupta provides a comprehensive tutorial on Python dictionaries, covering their creation, operations, and common interview questions. It starts with an introduction to Python dictionaries, explaining their key features, syntax, and use cases. The post then delves into various operations such as traversing, adding, updating, and deleting dictionary items. It also covers advanced topics like sorting, filtering, and converting dictionaries to strings. The tutorial is structured with clear examples for each operation, making it an invaluable resource for learners and developers looking to deepen their understanding of Python dictionaries.\n",
      "- Keywords: Python Dictionary, Dictionary in Python, Python Dictionary Tutorial, Dictionary Operation, Learning Python Dictionary\n",
      "- Target Audience: Programmers, Python developers, students learning Python, and individuals preparing for programming interviews.\n"
     ]
    }
   ],
   "source": [
    "blog_insight = extract_insights(blog_content)\n",
    "\n",
    "print(blog_insight)\n",
    "with open(\"./data/webpage_insight.txt\", 'w', encoding='utf-8') as file:\n",
    "    file.write(blog_insight)"
   ]
  },
  {
   "cell_type": "code",
   "execution_count": null,
   "id": "036eefde-7aa6-4ebb-839a-e43be79545be",
   "metadata": {},
   "outputs": [],
   "source": []
  }
 ],
 "metadata": {
  "kernelspec": {
   "display_name": "Python 3 (ipykernel)",
   "language": "python",
   "name": "python3"
  },
  "language_info": {
   "codemirror_mode": {
    "name": "ipython",
    "version": 3
   },
   "file_extension": ".py",
   "mimetype": "text/x-python",
   "name": "python",
   "nbconvert_exporter": "python",
   "pygments_lexer": "ipython3",
   "version": "3.8.3"
  }
 },
 "nbformat": 4,
 "nbformat_minor": 5
}
